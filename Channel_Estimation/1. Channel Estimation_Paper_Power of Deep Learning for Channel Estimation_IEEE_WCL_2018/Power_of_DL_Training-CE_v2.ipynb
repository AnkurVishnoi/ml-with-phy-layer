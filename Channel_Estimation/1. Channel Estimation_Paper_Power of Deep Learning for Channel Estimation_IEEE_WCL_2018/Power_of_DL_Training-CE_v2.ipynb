{
 "cells": [
  {
   "cell_type": "markdown",
   "source": [
    "# Global Parameters\n",
    "#power of DL for channel est and signal detection of OFDM system"
   ],
   "metadata": {
    "collapsed": false,
    "pycharm": {
     "name": "#%% md\n"
    }
   }
  },
  {
   "cell_type": "code",
   "execution_count": 108,
   "outputs": [
    {
     "name": "stdout",
     "output_type": "stream",
     "text": [
      "Load Training Pilots txt\n"
     ]
    }
   ],
   "source": [
    "import os\n",
    "\n",
    "import numpy as np\n",
    "K = 64           # subcarriers\n",
    "CP = K // 4      # cyclic prefix\n",
    "P = 16           # pilots\n",
    "allCarriers = np.arange(K)  # indices of all subcarriers ([0, 1, ... K-1])\n",
    "\n",
    "if P < K:\n",
    "    pilotCarriers = allCarriers[::K // P]  # Pilots is every (K/P)th carrier.\n",
    "    dataCarriers = np.delete(allCarriers, pilotCarriers)\n",
    "\n",
    "else:  # K = P\n",
    "    pilotCarriers = allCarriers\n",
    "    dataCarriers = []\n",
    "\n",
    "mu = 2\n",
    "payloadBits_per_OFDM = K * mu\n",
    "SNRdb = 25\n",
    "n_hidden_1 = 500\n",
    "n_hidden_2 = 250  # 1st layer num features\n",
    "n_hidden_3 = 120  # 2nd layer num features\n",
    "n_output = 16  # every 16 bit are predicted by a model\n",
    "\n",
    "\n",
    "def Modulation(bits):\n",
    "    bit_r = bits.reshape((int(len(bits) / mu), mu))\n",
    "    # This is just for QAM modulation\n",
    "    return (2 * bit_r[:, 0] - 1) + 1j * (2 * bit_r[:, 1] - 1)\n",
    "\n",
    "\n",
    "def OFDM_symbol(Data, pilot_flag):\n",
    "    symbol = np.zeros(K, dtype=complex)  # the overall K subcarriers\n",
    "    #symbol = np.zeros(K)\n",
    "    symbol[pilotCarriers] = pilotValue  # allocate the pilot subcarriers\n",
    "    symbol[dataCarriers] = Data  # allocate the pilot subcarriers\n",
    "    return symbol\n",
    "\n",
    "\n",
    "def IDFT(OFDM_data):\n",
    "    return np.fft.ifft(OFDM_data)\n",
    "\n",
    "\n",
    "def addCP(OFDM_time):\n",
    "    cp = OFDM_time[-CP:]               # take the last CP samples ...\n",
    "    return np.hstack([cp, OFDM_time])  # ... and add them to the beginning\n",
    "\n",
    "\n",
    "def channel(signal, channelResponse, SNRdb):\n",
    "    convolved = np.convolve(signal, channelResponse)\n",
    "    signal_power = np.mean(abs(convolved**2))\n",
    "    sigma2 = signal_power * 10**(-SNRdb / 10)\n",
    "    noise = np.sqrt(sigma2 / 2) * (np.random.randn(*\n",
    "                                                   convolved.shape) + 1j * np.random.randn(*convolved.shape))\n",
    "    return convolved + noise\n",
    "\n",
    "\n",
    "def removeCP(signal):\n",
    "    return signal[CP:(CP + K)]\n",
    "\n",
    "\n",
    "def DFT(OFDM_RX):\n",
    "    return np.fft.fft(OFDM_RX)\n",
    "\n",
    "\n",
    "def ofdm_simulate(codeword, channelResponse, SNRdb):\n",
    "    bits = np.random.binomial(n=1, p=0.5, size=(2*(K - P),))\n",
    "    QAM = Modulation(bits)\n",
    "    OFDM_data = np.zeros(K, dtype=complex)\n",
    "    OFDM_data[pilotCarriers] = pilotValue\n",
    "    OFDM_data[dataCarriers] = QAM\n",
    "    OFDM_time = IDFT(OFDM_data)\n",
    "    OFDM_withCP = addCP(OFDM_time)\n",
    "    OFDM_TX = OFDM_withCP\n",
    "    OFDM_RX = channel(OFDM_TX, channelResponse, SNRdb)\n",
    "    OFDM_RX_noCP = removeCP(OFDM_RX)\n",
    "    OFDM_RX_noCP = DFT(OFDM_RX_noCP)\n",
    "\n",
    "    # ----- target inputs ---\n",
    "    symbol = np.zeros(K, dtype=complex)\n",
    "    codeword_qam = Modulation(codeword)\n",
    "    symbol[np.arange(K)] = codeword_qam\n",
    "    OFDM_data_codeword = symbol\n",
    "    OFDM_time_codeword = np.fft.ifft(OFDM_data_codeword)\n",
    "    OFDM_withCP_cordword = addCP(OFDM_time_codeword)\n",
    "    OFDM_RX_codeword = channel(OFDM_withCP_cordword, channelResponse, SNRdb)\n",
    "    OFDM_RX_noCP_codeword = removeCP(OFDM_RX_codeword)\n",
    "    OFDM_RX_noCP_codeword = DFT(OFDM_RX_noCP_codeword)\n",
    "    return np.concatenate(\n",
    "        (np.concatenate(\n",
    "            (np.real(OFDM_RX_noCP), np.imag(OFDM_RX_noCP))), np.concatenate(\n",
    "            (np.real(OFDM_RX_noCP_codeword), np.imag(OFDM_RX_noCP_codeword))))), abs(channelResponse)\n",
    "\n",
    "\n",
    "Pilot_file_name = 'Pilot_' + str(P)\n",
    "if os.path.isfile(Pilot_file_name):\n",
    "    print('Load Training Pilots txt')\n",
    "    # load file\n",
    "    bits = np.loadtxt(Pilot_file_name, delimiter=',')\n",
    "else:\n",
    "    # write file\n",
    "    bits = np.random.binomial(n=1, p=0.5, size=(K * mu, ))\n",
    "    np.savetxt(Pilot_file_name, bits, delimiter=',')\n",
    "\n",
    "\n",
    "pilotValue = Modulation(bits)"
   ],
   "metadata": {
    "collapsed": false,
    "pycharm": {
     "name": "#%%\n"
    }
   }
  },
  {
   "cell_type": "markdown",
   "source": [
    "# Generation"
   ],
   "metadata": {
    "collapsed": false,
    "pycharm": {
     "name": "#%% md\n"
    }
   }
  },
  {
   "cell_type": "code",
   "execution_count": 109,
   "outputs": [],
   "source": [
    "#from Global_parameters import *\n",
    "\n",
    "channel_train = np.load('channel_train.npy')\n",
    "train_size = channel_train.shape[0]\n",
    "channel_test = np.load('channel_test.npy')\n",
    "test_size = channel_test.shape[0]\n",
    "\n",
    "\n",
    "def training_gen(bs, SNRdb = 20):\n",
    "    while True:\n",
    "        index = np.random.choice(np.arange(train_size), size=bs)\n",
    "        H_total = channel_train[index]\n",
    "        input_samples = []\n",
    "        input_labels = []\n",
    "        for H in H_total:\n",
    "            bits = np.random.binomial(n=1, p=0.5, size=(payloadBits_per_OFDM,))\n",
    "            signal_output, para = ofdm_simulate(bits, H, SNRdb)\n",
    "            input_labels.append(bits[0:16])       # Transmitted bits as DNN output\n",
    "            input_samples.append(signal_output)   # Received bits as DNN input\n",
    "        yield (np.asarray(input_samples), np.asarray(input_labels))\n",
    "\n",
    "\n",
    "def validation_gen(bs, SNRdb = 20):\n",
    "    while True:\n",
    "        index = np.random.choice(np.arange(train_size), size=bs)\n",
    "        H_total = channel_train[index]\n",
    "        input_samples = []\n",
    "        input_labels = []\n",
    "        for H in H_total:\n",
    "            bits = np.random.binomial(n=1, p=0.5, size=(payloadBits_per_OFDM,))\n",
    "            signal_output, para = ofdm_simulate(bits, H, SNRdb)\n",
    "            input_labels.append(bits[0:16])\n",
    "            input_samples.append(signal_output)\n",
    "        yield (np.asarray(input_samples), np.asarray(input_labels))\n",
    "\n",
    "# Define custom metric for bit error\n",
    "def bit_err(y_true, y_pred):\n",
    "    err = 1 - tf.reduce_mean(\n",
    "        tf.cast(\n",
    "            tf.reduce_mean(\n",
    "                tf.cast(tf.equal(tf.sign(y_pred - 0.5), tf.sign(y_true - 0.5)), tf.float32),\n",
    "                axis=1),\n",
    "            tf.float32))\n",
    "    return err"
   ],
   "metadata": {
    "collapsed": false,
    "pycharm": {
     "name": "#%%\n"
    }
   }
  },
  {
   "cell_type": "code",
   "execution_count": 110,
   "outputs": [
    {
     "data": {
      "text/plain": "array([[ 0.31994  +0.056713j  , -0.10715  -0.05253j   ,\n        -0.1087   +0.15788j   , ...,  0.       +0.j        ,\n         0.       +0.j        ,  0.       +0.j        ],\n       [ 0.32603  -0.18088j   , -0.11205  +0.12034j   ,\n         0.065691 -0.016139j  , ...,  0.       +0.j        ,\n         0.       +0.j        ,  0.       +0.j        ],\n       [ 0.22623  -0.39848j   , -0.0087778+0.18254j   ,\n         0.20308  -0.29827j   , ...,  0.       +0.j        ,\n         0.       +0.j        ,  0.       +0.j        ],\n       ...,\n       [-0.30239  +0.26467j   ,  0.47482  +0.29337j   ,\n         0.84778  -0.37781j   , ...,  0.       +0.j        ,\n         0.       +0.j        , -0.0088219+0.010404j  ],\n       [ 0.25631  +0.41714j   ,  0.49614  -0.011494j  ,\n         0.27815  +0.39557j   , ...,  0.       +0.j        ,\n         0.       +0.j        , -0.013438 -0.00099531j],\n       [ 0.54252  -0.118j     ,  0.09046  +0.13097j   ,\n        -0.178    +0.56551j   , ...,  0.       +0.j        ,\n         0.       +0.j        , -0.0056112-0.012988j  ]])"
     },
     "execution_count": 110,
     "metadata": {},
     "output_type": "execute_result"
    }
   ],
   "source": [
    "channel_train.shape\n",
    "channel_train"
   ],
   "metadata": {
    "collapsed": false,
    "pycharm": {
     "name": "#%%\n"
    }
   }
  },
  {
   "cell_type": "code",
   "execution_count": 111,
   "outputs": [
    {
     "data": {
      "text/plain": "(1000000, 16)"
     },
     "execution_count": 111,
     "metadata": {},
     "output_type": "execute_result"
    }
   ],
   "source": [
    "channel_train.shape"
   ],
   "metadata": {
    "collapsed": false,
    "pycharm": {
     "name": "#%%\n"
    }
   }
  },
  {
   "cell_type": "code",
   "execution_count": 112,
   "outputs": [
    {
     "data": {
      "text/plain": "(390000, 16)"
     },
     "execution_count": 112,
     "metadata": {},
     "output_type": "execute_result"
    }
   ],
   "source": [
    "channel_test.shape"
   ],
   "metadata": {
    "collapsed": false,
    "pycharm": {
     "name": "#%%\n"
    }
   }
  },
  {
   "cell_type": "markdown",
   "source": [
    "# Main"
   ],
   "metadata": {
    "collapsed": false,
    "pycharm": {
     "name": "#%% md\n"
    }
   }
  },
  {
   "cell_type": "code",
   "execution_count": 113,
   "outputs": [],
   "source": [
    "import numpy as np\n",
    "from Global_parameters import *\n",
    "from tensorflow.keras.models import Model\n",
    "from tensorflow.keras.layers import Input, BatchNormalization, Dense\n",
    "from tensorflow.keras.callbacks import ModelCheckpoint\n",
    "import tensorflow as tf"
   ],
   "metadata": {
    "collapsed": false,
    "pycharm": {
     "name": "#%%\n"
    }
   }
  },
  {
   "cell_type": "code",
   "execution_count": 114,
   "outputs": [
    {
     "name": "stdout",
     "output_type": "stream",
     "text": [
      "Model: \"model_4\"\n",
      "_________________________________________________________________\n",
      "Layer (type)                 Output Shape              Param #   \n",
      "=================================================================\n",
      "input_6 (InputLayer)         [(None, 256)]             0         \n",
      "_________________________________________________________________\n",
      "batch_normalization_17 (Batc (None, 256)               1024      \n",
      "_________________________________________________________________\n",
      "dense_16 (Dense)             (None, 500)               128500    \n",
      "_________________________________________________________________\n",
      "batch_normalization_18 (Batc (None, 500)               2000      \n",
      "_________________________________________________________________\n",
      "dense_17 (Dense)             (None, 250)               125250    \n",
      "_________________________________________________________________\n",
      "batch_normalization_19 (Batc (None, 250)               1000      \n",
      "_________________________________________________________________\n",
      "dense_18 (Dense)             (None, 120)               30120     \n",
      "_________________________________________________________________\n",
      "batch_normalization_20 (Batc (None, 120)               480       \n",
      "_________________________________________________________________\n",
      "dense_19 (Dense)             (None, 16)                1936      \n",
      "=================================================================\n",
      "Total params: 290,310\n",
      "Trainable params: 288,058\n",
      "Non-trainable params: 2,252\n",
      "_________________________________________________________________\n"
     ]
    }
   ],
   "source": [
    "# Build the model\n",
    "input_bits = Input(shape=(payloadBits_per_OFDM * 2,))\n",
    "temp = BatchNormalization()(input_bits)\n",
    "temp = Dense(n_hidden_1, activation='relu')(temp)\n",
    "temp = BatchNormalization()(temp)\n",
    "temp = Dense(n_hidden_2, activation='relu')(temp)\n",
    "temp = BatchNormalization()(temp)\n",
    "temp = Dense(n_hidden_3, activation='relu')(temp)\n",
    "temp = BatchNormalization()(temp)\n",
    "out_put = Dense(n_output, activation='sigmoid')(temp)\n",
    "model = Model(input_bits, out_put)\n",
    "\n",
    "# Compile model\n",
    "model.compile(optimizer='adam', loss='mse', metrics=[bit_err])\n",
    "model.summary()"
   ],
   "metadata": {
    "collapsed": false,
    "pycharm": {
     "name": "#%%\n"
    }
   }
  },
  {
   "cell_type": "code",
   "execution_count": 115,
   "outputs": [
    {
     "name": "stdout",
     "output_type": "stream",
     "text": [
      "Epoch 1/20\n",
      "50/50 - 14s - loss: 0.2227 - bit_err: 0.3563 - val_loss: 0.1845 - val_bit_err: 0.2100\n",
      "Epoch 2/20\n",
      "50/50 - 12s - loss: 0.1001 - bit_err: 0.1120 - val_loss: 0.1008 - val_bit_err: 0.0813\n",
      "Epoch 3/20\n",
      "50/50 - 12s - loss: 0.0541 - bit_err: 0.0558 - val_loss: 0.0600 - val_bit_err: 0.0562\n",
      "Epoch 4/20\n",
      "50/50 - 13s - loss: 0.0378 - bit_err: 0.0410 - val_loss: 0.0431 - val_bit_err: 0.0469\n",
      "Epoch 5/20\n",
      "50/50 - 13s - loss: 0.0287 - bit_err: 0.0314 - val_loss: 0.0316 - val_bit_err: 0.0331\n",
      "Epoch 6/20\n",
      "50/50 - 13s - loss: 0.0223 - bit_err: 0.0243 - val_loss: 0.0199 - val_bit_err: 0.0238\n",
      "Epoch 7/20\n",
      "50/50 - 12s - loss: 0.0180 - bit_err: 0.0198 - val_loss: 0.0157 - val_bit_err: 0.0163\n",
      "Epoch 8/20\n",
      "50/50 - 12s - loss: 0.0153 - bit_err: 0.0169 - val_loss: 0.0128 - val_bit_err: 0.0156\n",
      "Epoch 9/20\n",
      "50/50 - 12s - loss: 0.0132 - bit_err: 0.0146 - val_loss: 0.0118 - val_bit_err: 0.0125\n",
      "Epoch 10/20\n",
      "50/50 - 12s - loss: 0.0116 - bit_err: 0.0129 - val_loss: 0.0152 - val_bit_err: 0.0181\n",
      "Epoch 11/20\n",
      "50/50 - 12s - loss: 0.0102 - bit_err: 0.0113 - val_loss: 0.0112 - val_bit_err: 0.0113\n",
      "Epoch 12/20\n",
      "50/50 - 12s - loss: 0.0095 - bit_err: 0.0107 - val_loss: 0.0106 - val_bit_err: 0.0131\n",
      "Epoch 13/20\n",
      "50/50 - 12s - loss: 0.0087 - bit_err: 0.0100 - val_loss: 0.0052 - val_bit_err: 0.0081\n",
      "Epoch 14/20\n",
      "50/50 - 12s - loss: 0.0080 - bit_err: 0.0091 - val_loss: 0.0059 - val_bit_err: 0.0050\n",
      "Epoch 15/20\n",
      "50/50 - 12s - loss: 0.0074 - bit_err: 0.0085 - val_loss: 0.0089 - val_bit_err: 0.0125\n",
      "Epoch 16/20\n",
      "50/50 - 12s - loss: 0.0071 - bit_err: 0.0081 - val_loss: 0.0064 - val_bit_err: 0.0081\n",
      "Epoch 17/20\n",
      "50/50 - 12s - loss: 0.0067 - bit_err: 0.0077 - val_loss: 0.0056 - val_bit_err: 0.0050\n",
      "Epoch 18/20\n",
      "50/50 - 14s - loss: 0.0066 - bit_err: 0.0078 - val_loss: 0.0034 - val_bit_err: 0.0044\n",
      "Epoch 19/20\n",
      "50/50 - 13s - loss: 0.0063 - bit_err: 0.0073 - val_loss: 0.0072 - val_bit_err: 0.0106\n",
      "Epoch 20/20\n",
      "50/50 - 12s - loss: 0.0058 - bit_err: 0.0068 - val_loss: 0.0054 - val_bit_err: 0.0063\n"
     ]
    }
   ],
   "source": [
    "# Define the checkpoint\n",
    "checkpoint = ModelCheckpoint('./temp_trained_26.h5', monitor='val_bit_err',\n",
    "                             verbose=0, save_best_only=True, mode='min', save_weights_only=True)\n",
    "\n",
    "# Train the model\n",
    "# Train the model and capture the history\n",
    "history = model.fit(\n",
    "    training_gen(1000, 25),\n",
    "    steps_per_epoch=50,\n",
    "    epochs=20,\n",
    "    validation_data=validation_gen(100, 25),\n",
    "    validation_steps=1,\n",
    "    callbacks=[checkpoint],\n",
    "    verbose=2\n",
    ")"
   ],
   "metadata": {
    "collapsed": false,
    "pycharm": {
     "name": "#%%\n"
    }
   }
  },
  {
   "cell_type": "code",
   "execution_count": 116,
   "outputs": [
    {
     "data": {
      "text/plain": "<Figure size 360x360 with 1 Axes>",
      "image/png": "[encoded data removed]"
     },
     "metadata": {
      "needs_background": "light"
     },
     "output_type": "display_data"
    }
   ],
   "source": [
    "import matplotlib.pyplot as plt\n",
    "\n",
    "# Plot training & validation loss\n",
    "plt.figure(figsize=(5, 5))\n",
    "\n",
    "# Plot loss\n",
    "#plt.subplot(1, 2, 1)\n",
    "plt.plot(history.history['loss'], label='Training Loss')\n",
    "plt.plot(history.history['val_loss'], label='Validation Loss')\n",
    "plt.title('Model Loss')\n",
    "plt.xlabel('Epochs')\n",
    "plt.ylabel('Loss')\n",
    "plt.legend()\n",
    "plt.grid()\n",
    "#plt.tight_layout()\n",
    "plt.show()"
   ],
   "metadata": {
    "collapsed": false,
    "pycharm": {
     "name": "#%%\n"
    }
   }
  },
  {
   "cell_type": "code",
   "execution_count": 117,
   "outputs": [],
   "source": [
    "import h5py\n",
    "# Open the HDF5 file in read/write mode\n",
    "with h5py.File('./temp_trained_26.h5', 'r+') as f:\n",
    "    # Convert `keras_version` to a byte string\n",
    "    if isinstance(f.attrs['keras_version'], str):\n",
    "        f.attrs['keras_version'] = f.attrs['keras_version'].encode('utf8')"
   ],
   "metadata": {
    "collapsed": false,
    "pycharm": {
     "name": "#%%\n"
    }
   }
  },
  {
   "cell_type": "code",
   "execution_count": 118,
   "outputs": [
    {
     "name": "stdout",
     "output_type": "stream",
     "text": [
      "1/1 [==============================] - 0s 78ms/step - loss: 0.0804 - bit_err: 0.1025\n",
      "[0.0804109051823616, 0.10254377126693726]\n",
      "1/1 [==============================] - 0s 89ms/step - loss: 0.0280 - bit_err: 0.0372\n",
      "[0.02804807759821415, 0.037231266498565674]\n",
      "1/1 [==============================] - 0s 63ms/step - loss: 0.0117 - bit_err: 0.0154\n",
      "[0.011654593981802464, 0.015412509441375732]\n",
      "1/1 [==============================] - 0s 71ms/step - loss: 0.0068 - bit_err: 0.0085\n",
      "[0.006772987544536591, 0.008506238460540771]\n",
      "1/1 [==============================] - 0s 78ms/step - loss: 0.0050 - bit_err: 0.0057\n",
      "[0.004984528291970491, 0.0057187676429748535]\n",
      "[0.10254377126693726, 0.037231266498565674, 0.015412509441375732, 0.008506238460540771, 0.0057187676429748535]\n"
     ]
    }
   ],
   "source": [
    "#model.load_weights('./temp_trained_25.h5')\n",
    "BER = []\n",
    "for SNR in range(5, 30, 5):\n",
    "    y = model.evaluate(\n",
    "        validation_gen(10000, SNR),\n",
    "        steps=1\n",
    "    )\n",
    "    BER.append(y[1])\n",
    "    print(y)\n",
    "print(BER)\n",
    "BER_matlab = np.array(BER)\n",
    "import scipy.io as sio\n",
    "sio.savemat('BER.mat', {'BER':BER_matlab})"
   ],
   "metadata": {
    "collapsed": false,
    "pycharm": {
     "name": "#%%\n"
    }
   }
  },
  {
   "cell_type": "code",
   "execution_count": 106,
   "outputs": [
    {
     "name": "stderr",
     "output_type": "stream",
     "text": [
      "No handles with labels found to put in legend.\n"
     ]
    },
    {
     "data": {
      "text/plain": "<Figure size 360x360 with 1 Axes>",
      "image/png": "[encoded data removed]"
     },
     "metadata": {
      "needs_background": "light"
     },
     "output_type": "display_data"
    }
   ],
   "source": [
    "# Plot BER\n",
    "plt.figure(figsize=(5, 5))\n",
    "SNRdb =[5, 10, 15, 20, 25]\n",
    "# Plot BER\n",
    "#plt.subplot(1, 2, 2)\n",
    "plt.semilogy(SNRdb, BER)\n",
    "plt.title('BER Performnce with Pilot 16')\n",
    "# Set y-ticks to display specific powers of ten\n",
    "plt.xlabel('SNR(dB)')\n",
    "plt.ylabel('Bit Error Rate')\n",
    "plt.legend()\n",
    "plt.grid()"
   ],
   "metadata": {
    "collapsed": false,
    "pycharm": {
     "name": "#%%\n"
    }
   }
  },
  {
   "cell_type": "code",
   "execution_count": 119,
   "outputs": [
    {
     "data": {
      "text/plain": "<Figure size 432x288 with 1 Axes>",
      "image/png": "[encoded data removed]"
     },
     "metadata": {
      "needs_background": "light"
     },
     "output_type": "display_data"
    }
   ],
   "source": [
    "#We can run above program for diffrent length of Pilot P=8, 64 also and can check the MSE performance\n",
    "# pilot = 64\n",
    "import matplotlib.pyplot as plt\n",
    "BER_64 = [0.099868774, 0.035512507, 0.013424993, 0.0053812265, 0.0029125214]\n",
    "SNR = [5,10,15,20,25]\n",
    "plt.semilogy(SNR, BER_64)\n",
    "plt.xlabel('SNR in dB')\n",
    "plt.ylabel('BER')\n",
    "plt.title('BER Performnce with Pilot 64')\n",
    "plt.grid()"
   ],
   "metadata": {
    "collapsed": false,
    "pycharm": {
     "name": "#%%\n"
    }
   }
  },
  {
   "cell_type": "code",
   "execution_count": 120,
   "outputs": [
    {
     "data": {
      "text/plain": "<Figure size 432x288 with 1 Axes>",
      "image/png": "[encoded data removed]"
     },
     "metadata": {
      "needs_background": "light"
     },
     "output_type": "display_data"
    }
   ],
   "source": [
    "pilot = 8\n",
    "BER_8 = [0.10129374, 0.03803748, 0.013956249, 0.0062000155, 0.0040062666]\n",
    "SNR = [5,10,15,20,25]\n",
    "plt.semilogy(SNR, BER_8)\n",
    "plt.xlabel('SNR in dB')\n",
    "plt.ylabel('BER')\n",
    "plt.title('BER Performnce with Pilot 64')\n",
    "plt.grid()"
   ],
   "metadata": {
    "collapsed": false,
    "pycharm": {
     "name": "#%%\n"
    }
   }
  },
  {
   "cell_type": "code",
   "execution_count": 79,
   "outputs": [],
   "source": [],
   "metadata": {
    "collapsed": false,
    "pycharm": {
     "name": "#%%\n"
    }
   }
  }
 ],
 "metadata": {
  "kernelspec": {
   "display_name": "Python 3",
   "language": "python",
   "name": "python3"
  },
  "language_info": {
   "codemirror_mode": {
    "name": "ipython",
    "version": 2
   },
   "file_extension": ".py",
   "mimetype": "text/x-python",
   "name": "python",
   "nbconvert_exporter": "python",
   "pygments_lexer": "ipython2",
   "version": "2.7.6"
  }
 },
 "nbformat": 4,
 "nbformat_minor": 0
}