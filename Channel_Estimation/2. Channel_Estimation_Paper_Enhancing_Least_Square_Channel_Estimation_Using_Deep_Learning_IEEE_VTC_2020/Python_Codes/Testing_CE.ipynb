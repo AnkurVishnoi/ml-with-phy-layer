{
 "cells": [
  {
   "cell_type": "code",
   "execution_count": 32,
   "outputs": [],
   "source": [
    "import tensorflow as tf\n",
    "import pickle\n",
    "from scipy.io import loadmat\n",
    "import numpy as np\n",
    "import scipy.io\n",
    "from tensorflow.keras.models import load_model\n",
    "from sklearn.model_selection import train_test_split\n",
    "from sklearn.preprocessing import StandardScaler\n",
    "import os\n",
    "import matplotlib.pyplot as plt\n",
    "from sklearn.metrics import mean_squared_error"
   ],
   "metadata": {
    "collapsed": false,
    "pycharm": {
     "name": "#%%\n"
    }
   }
  },
  {
   "cell_type": "code",
   "execution_count": 34,
   "metadata": {
    "pycharm": {
     "name": "#%%\n"
    }
   },
   "outputs": [
    {
     "name": "stdout",
     "output_type": "stream",
     "text": [
      "Loaded Dataset Inputs:  (1000, 104)\n",
      "Loaded Dataset Outputs:  (1000, 104)\n",
      "Testing samples:  200\n",
      "MSE for SNR 1: 0.03694717926799217\n",
      "Data successfully converted to .mat file \n",
      "Loaded Dataset Inputs:  (1000, 104)\n",
      "Loaded Dataset Outputs:  (1000, 104)\n",
      "Testing samples:  200\n",
      "MSE for SNR 2: 0.007833912248569228\n",
      "Data successfully converted to .mat file \n",
      "Loaded Dataset Inputs:  (1000, 104)\n",
      "Loaded Dataset Outputs:  (1000, 104)\n",
      "Testing samples:  200\n",
      "MSE for SNR 3: 0.0011755118136810513\n",
      "Data successfully converted to .mat file \n",
      "Loaded Dataset Inputs:  (1000, 104)\n",
      "Loaded Dataset Outputs:  (1000, 104)\n",
      "Testing samples:  200\n",
      "MSE for SNR 4: 0.0005022120384838704\n",
      "Data successfully converted to .mat file \n",
      "Loaded Dataset Inputs:  (1000, 104)\n",
      "Loaded Dataset Outputs:  (1000, 104)\n",
      "Testing samples:  200\n",
      "MSE for SNR 5: 0.00026786649859657344\n",
      "Data successfully converted to .mat file \n",
      "Loaded Dataset Inputs:  (1000, 104)\n",
      "Loaded Dataset Outputs:  (1000, 104)\n",
      "Testing samples:  200\n",
      "MSE for SNR 6: 0.0001815094786040803\n",
      "Data successfully converted to .mat file \n",
      "Loaded Dataset Inputs:  (1000, 104)\n",
      "Loaded Dataset Outputs:  (1000, 104)\n",
      "Testing samples:  200\n",
      "MSE for SNR 7: 8.281618054922076e-05\n",
      "Data successfully converted to .mat file \n"
     ]
    }
   ],
   "source": [
    "snr = np.arange(1, 8)\n",
    "mse_values = []\n",
    "\n",
    "t_snr = 7  # Keep the fixed SNR for loading the model\n",
    "\n",
    "for j in snr:\n",
    "    dataset_path = './DNN_Dataset_{}.mat'.format(j)\n",
    "    mat = loadmat(dataset_path)\n",
    "    Dataset = mat['Preamble_Error_Correction_Dataset']\n",
    "    Dataset = Dataset[0, 0]\n",
    "    X = Dataset['X']\n",
    "    Y = Dataset['Y']\n",
    "    print('Loaded Dataset Inputs: ', X.shape)\n",
    "    print('Loaded Dataset Outputs: ', Y.shape)\n",
    "\n",
    "    # Normalizing Datasets\n",
    "    scalerx = StandardScaler()\n",
    "    scalerx.fit(X)\n",
    "    scalery = StandardScaler()\n",
    "    scalery.fit(Y)\n",
    "    XS = scalerx.transform(X)\n",
    "    YS = scalery.transform(Y)\n",
    "\n",
    "    # Split Data into train and test sets\n",
    "    seed = 7\n",
    "    train_X, test_X, train_Y, test_Y = train_test_split(XS, YS, test_size=0.2, random_state=seed)\n",
    "    print('Testing samples: ', test_X.shape[0])\n",
    "\n",
    "\n",
    "    model_path = './LS_DNN_{}.h5'.format(t_snr)\n",
    "    model = load_model(model_path, compile=False)\n",
    "\n",
    "\n",
    "    # Testing the model\n",
    "    Y_pred = model.predict(test_X)\n",
    "    Original_Testing_X = scalerx.inverse_transform(test_X)\n",
    "    Original_Testing_Y = scalery.inverse_transform(test_Y)\n",
    "    Prediction_Y = scalery.inverse_transform(Y_pred)\n",
    "\n",
    "    # Calculate MSE\n",
    "    mse = mean_squared_error(Original_Testing_Y, Prediction_Y)\n",
    "    mse_values.append(mse)\n",
    "    print(f'MSE for SNR {j}: {mse}')\n",
    "\n",
    "    # Save results\n",
    "    result_path = './DNN_Results_{}.pickle'.format(j)\n",
    "    with open(result_path, 'wb') as f:\n",
    "        pickle.dump([Original_Testing_X, Original_Testing_Y, Prediction_Y], f)\n",
    "\n",
    "    source_name = './DNN_Results_{}.pickle'.format(j)\n",
    "    dest_name = './DNN_Results_{}.mat'.format(j)\n",
    "    a = pickle.load(open(source_name, \"rb\"))\n",
    "    scipy.io.savemat(dest_name, {\n",
    "        'test_x_{}'.format(j): a[0],\n",
    "        'test_y_{}'.format(j): a[1],\n",
    "        'corrected_y_{}'.format(j): a[2]\n",
    "    })\n",
    "    print(\"Data successfully converted to .mat file \")\n",
    "    os.remove(result_path)"
   ]
  },
  {
   "cell_type": "code",
   "execution_count": 35,
   "metadata": {
    "pycharm": {
     "name": "#%%\n"
    }
   },
   "outputs": [
    {
     "data": {
      "text/plain": "(200, 104)"
     },
     "execution_count": 35,
     "metadata": {},
     "output_type": "execute_result"
    }
   ],
   "source": [
    "Prediction_Y.shape"
   ]
  },
  {
   "cell_type": "code",
   "execution_count": 36,
   "metadata": {
    "pycharm": {
     "name": "#%%\n"
    }
   },
   "outputs": [
    {
     "data": {
      "text/plain": "(200, 104)"
     },
     "execution_count": 36,
     "metadata": {},
     "output_type": "execute_result"
    }
   ],
   "source": [
    "Original_Testing_Y.shape"
   ]
  },
  {
   "cell_type": "code",
   "execution_count": 37,
   "metadata": {
    "pycharm": {
     "name": "#%%\n"
    }
   },
   "outputs": [
    {
     "name": "stdout",
     "output_type": "stream",
     "text": [
      "Model: \"sequential\"\n",
      "_________________________________________________________________\n",
      "Layer (type)                 Output Shape              Param #   \n",
      "=================================================================\n",
      "dense (Dense)                (None, 104)               10920     \n",
      "_________________________________________________________________\n",
      "dense_1 (Dense)              (None, 104)               10920     \n",
      "_________________________________________________________________\n",
      "dense_2 (Dense)              (None, 104)               10920     \n",
      "=================================================================\n",
      "Total params: 32,760\n",
      "Trainable params: 32,760\n",
      "Non-trainable params: 0\n",
      "_________________________________________________________________\n"
     ]
    }
   ],
   "source": [
    "model.summary()"
   ]
  },
  {
   "cell_type": "code",
   "execution_count": 38,
   "outputs": [
    {
     "data": {
      "text/plain": "<Figure size 720x432 with 1 Axes>",
      "image/png": "[encoded data removed]"
     },
     "metadata": {
      "needs_background": "light"
     },
     "output_type": "display_data"
    }
   ],
   "source": [
    "import matplotlib.pyplot as plt\n",
    "# Plotting MSE values for different SNR on a logarithmic scale\n",
    "plt.figure(figsize=(10, 6))\n",
    "plt.plot(snr, mse_values, marker='o', linestyle='-', color='b')\n",
    "plt.title('Mean Squared Error (MSE) for Different SNRs')\n",
    "plt.xlabel('SNR (dB)')\n",
    "plt.ylabel('Mean Squared Error (MSE) [log scale]')\n",
    "plt.yscale('log')  # Set y-axis to logarithmic scale\n",
    "plt.xticks(snr)  # Set x-ticks to match the SNR values\n",
    "plt.grid(True, which=\"both\", ls=\"--\")  # Show grid lines for both major and minor ticks\n",
    "plt.show()"
   ],
   "metadata": {
    "collapsed": false,
    "pycharm": {
     "name": "#%%\n"
    }
   }
  },
  {
   "cell_type": "code",
   "execution_count": null,
   "outputs": [],
   "source": [],
   "metadata": {
    "collapsed": false,
    "pycharm": {
     "name": "#%%\n"
    }
   }
  }
 ],
 "metadata": {
  "kernelspec": {
   "display_name": "Python 3",
   "language": "python",
   "name": "python3"
  },
  "language_info": {
   "codemirror_mode": {
    "name": "ipython",
    "version": 3
   },
   "file_extension": ".py",
   "mimetype": "text/x-python",
   "name": "python",
   "nbconvert_exporter": "python",
   "pygments_lexer": "ipython3",
   "version": "3.8.10"
  }
 },
 "nbformat": 4,
 "nbformat_minor": 2
}